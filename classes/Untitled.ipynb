{
 "cells": [
  {
   "cell_type": "code",
   "execution_count": 148,
   "metadata": {},
   "outputs": [],
   "source": [
    "class Graph():\n",
    "    \"\"\"We define a class of non orientated graphs.\n",
    "    A graph is given by a set of vertices and a set of\n",
    "    edges, given as couples of vertices\n",
    "    \n",
    "    \"\"\"\n",
    "    \n",
    "    def __init__(self):\n",
    "        self._vertices = set()\n",
    "        self._edges = set()\n",
    "        \n",
    "    def __repr__(self):\n",
    "        \"\"\"Method to represent the graph by returning\n",
    "        a string of the number of its vertices and edges\n",
    "        \n",
    "        \"\"\"\n",
    "        v = (len(self._vertices)<2)*\"vertex\" + (len(self._vertices)>1)*\"vertices\" \n",
    "        e = \"edge\"+(len(self._edges)>1)*'s'\n",
    "        \n",
    "        return(\"Graph composed of {} {} and {} {}\".format(len(self._vertices), v, len(self._edges), e))\n",
    "    \n",
    "    def add_vertex(self, *vertices):\n",
    "        \"\"\"Method to add a vertex to a graph.\"\"\"\n",
    "        for vertex in vertices:           \n",
    "            self._vertices.add(vertex)\n",
    "        \n",
    "    def add_edge(self, vertex1, vertex2):\n",
    "        \"\"\"Method to add an edge to a graph. If\n",
    "        one of the vertex is not in the graph, raises an exception\n",
    "        \n",
    "        \"\"\"\n",
    "        if (vertex1 not in self._vertices):\n",
    "            raise ValueError(\"Vertex {} is not in the graph\".format(vertex1))\n",
    "        elif  (vertex2 not in self._vertices):\n",
    "            raise ValueError(\"Vertex {} is not in the graph\".format(vertex2))\n",
    "        else:\n",
    "            self._edges.add(frozenset({vertex1,vertex2}))\n",
    "            \n",
    "    def remove_edge(self, vertex1, vertex2):\n",
    "        \"\"\"Method to remove an existing edge in a graph. \n",
    "        \"\"\"\n",
    "        self._edges.remove({vertex1, vertex2})\n",
    "    \n",
    "    def neighbours(self, vertex):\n",
    "        \"\"\" Takes graph and a vertex from the graph as arguments and returns\n",
    "        the set of vertices which are at distance 1 from the inputed vertex. \n",
    "        \n",
    "        \"\"\"\n",
    "        if vertex not in self._vertices:\n",
    "            raise ValueError(\"Vertex {} is not in the graph\".format(vertex))\n",
    "        neighbours = set()\n",
    "        for vertex2 in self._vertices:\n",
    "            if {vertex, vertex2} in self._edges:\n",
    "                neighbours.add(vertex2)\n",
    "        return neighbours\n",
    "    \n",
    "    def shortest_path(self, start, target):\n",
    "        \"\"\"Takes three arguments: a graph, a starting vertex in the graph and a target, and returns\n",
    "        a shortest path as a list of vertices.\n",
    "        \n",
    "        \"\"\"\n",
    "        if (start not in self._vertices):\n",
    "             raise ValueError(\"Vertex {} is not in the graph\".format(start))\n",
    "        if  (target not in self._vertices):\n",
    "            raise ValueError(\"Vertex {} is not in the graph\".format(target))\n",
    "        totreat = [start]\n",
    "        marked = set([start])\n",
    "        paths = [[start]]\n",
    "        shortest_path = []\n",
    "        while totreat and target not in marked:\n",
    "            v = totreat.pop(0)\n",
    "            n = self.neighbours(v)\n",
    "            for p in paths:\n",
    "                if p[-1] == v:\n",
    "                    for vertex in n:\n",
    "                        paths.append(p + [vertex])                    \n",
    "            totreat += [vertex for vertex in n if vertex not in marked]\n",
    "            for vertex in n:\n",
    "                marked.add(vertex)\n",
    "        for p in paths:\n",
    "            if p[-1] == target:\n",
    "                shortest_path = p\n",
    "                break\n",
    "        if target not in marked:\n",
    "            return('Sorry, there is no path between these points')\n",
    "        else:\n",
    "            return shortest_path\n",
    "        \n",
    "            \n",
    "        "
   ]
  },
  {
   "cell_type": "code",
   "execution_count": 149,
   "metadata": {},
   "outputs": [],
   "source": [
    "A = Graph()"
   ]
  },
  {
   "cell_type": "code",
   "execution_count": 150,
   "metadata": {},
   "outputs": [],
   "source": [
    "A.add_vertex(1,2,3,4,5,6,7,8,9)"
   ]
  },
  {
   "cell_type": "code",
   "execution_count": 154,
   "metadata": {},
   "outputs": [
    {
     "data": {
      "text/plain": [
       "Graph composed of 9 vertices and 12 edges"
      ]
     },
     "execution_count": 154,
     "metadata": {},
     "output_type": "execute_result"
    }
   ],
   "source": [
    "A.add_edge(1,2)\n",
    "A.add_edge(1,4)\n",
    "A.add_edge(4,2)\n",
    "A.add_edge(4,7)\n",
    "A.add_edge(2,7)\n",
    "A.add_edge(7,8)\n",
    "A.add_edge(3,2)\n",
    "A.add_edge(3,5)\n",
    "A.add_edge(3,6)\n",
    "A.add_edge(3,9)\n",
    "A.add_edge(5,6)\n",
    "A.add_edge(6,9)\n",
    "A"
   ]
  },
  {
   "cell_type": "code",
   "execution_count": 155,
   "metadata": {},
   "outputs": [
    {
     "data": {
      "text/plain": [
       "Graph composed of 9 vertices and 11 edges"
      ]
     },
     "execution_count": 155,
     "metadata": {},
     "output_type": "execute_result"
    }
   ],
   "source": [
    "A.remove_edge(2,3)\n",
    "A"
   ]
  },
  {
   "cell_type": "code",
   "execution_count": 156,
   "metadata": {},
   "outputs": [
    {
     "data": {
      "text/plain": [
       "'Sorry, there is no path between these points'"
      ]
     },
     "execution_count": 156,
     "metadata": {},
     "output_type": "execute_result"
    }
   ],
   "source": [
    "A.shortest_path(5,8)"
   ]
  },
  {
   "cell_type": "code",
   "execution_count": null,
   "metadata": {},
   "outputs": [],
   "source": []
  }
 ],
 "metadata": {
  "kernelspec": {
   "display_name": "Python 3",
   "language": "python",
   "name": "python3"
  },
  "language_info": {
   "codemirror_mode": {
    "name": "ipython",
    "version": 3
   },
   "file_extension": ".py",
   "mimetype": "text/x-python",
   "name": "python",
   "nbconvert_exporter": "python",
   "pygments_lexer": "ipython3",
   "version": "3.7.6"
  }
 },
 "nbformat": 4,
 "nbformat_minor": 4
}
